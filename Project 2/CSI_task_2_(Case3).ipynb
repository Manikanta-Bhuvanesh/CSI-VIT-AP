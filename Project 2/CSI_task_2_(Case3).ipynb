{
  "nbformat": 4,
  "nbformat_minor": 0,
  "metadata": {
    "colab": {
      "name": "CSI task 2 (Case3).ipynb",
      "provenance": [],
      "collapsed_sections": []
    },
    "kernelspec": {
      "name": "python3",
      "display_name": "Python 3"
    },
    "language_info": {
      "name": "python"
    }
  },
  "cells": [
    {
      "cell_type": "markdown",
      "metadata": {
        "id": "9H5Y4k7SlFCM"
      },
      "source": [
        "### Data set contains train set and test set with two classes cars and planes.Predicting class using car or plane"
      ]
    },
    {
      "cell_type": "markdown",
      "metadata": {
        "id": "ZSAzbpltlVa6"
      },
      "source": [
        "## Unzipping the data"
      ]
    },
    {
      "cell_type": "code",
      "metadata": {
        "id": "ieJEeRCtOuZV"
      },
      "source": [
        "#!unzip v_data.zip"
      ],
      "execution_count": 5,
      "outputs": []
    },
    {
      "cell_type": "markdown",
      "metadata": {
        "id": "2j3Xg-_zlm7F"
      },
      "source": [
        "## Imported all needed packages"
      ]
    },
    {
      "cell_type": "code",
      "metadata": {
        "id": "Gkn-Gxcblb1x"
      },
      "source": [
        "import pandas as pd\n",
        "import os\n",
        "from skimage.transform import resize\n",
        "from skimage.io import imread\n",
        "import pandas as pd\n",
        "import numpy as np\n",
        "from keras.preprocessing.image import ImageDataGenerator\n",
        "from keras.models import Sequential\n",
        "from keras.layers import Conv2D, MaxPooling2D\n",
        "from keras.layers import Activation, Dropout, Flatten, Dense\n",
        "from keras import backend as K\n",
        "from keras.preprocessing.image import load_img\n",
        "from sklearn import svm\n",
        "import tensorflow as tf\n"
      ],
      "execution_count": 25,
      "outputs": []
    },
    {
      "cell_type": "markdown",
      "metadata": {
        "id": "QmrvmuZjludM"
      },
      "source": [
        "## Reading images and appending to arrays"
      ]
    },
    {
      "cell_type": "code",
      "metadata": {
        "id": "FoKh6d7APRzz"
      },
      "source": [
        "Categories=['cars','planes']\n",
        "flat_data_arr=[] #input array\n",
        "target_arr=[] #output array\n",
        "datadir='v_data/train' \n",
        "for i in Categories:\n",
        "    path=os.path.join(datadir,i)\n",
        "    for img in os.listdir(path):\n",
        "        img_array=imread(os.path.join(path,img))\n",
        "        img_resized=resize(img_array,(224,224,3))\n",
        "        flat_data_arr.append(img_resized.flatten())\n",
        "        target_arr.append(Categories.index(i))\n"
      ],
      "execution_count": 7,
      "outputs": []
    },
    {
      "cell_type": "markdown",
      "metadata": {
        "id": "MwfVSXNVmEF9"
      },
      "source": [
        "## Coverting to numpy arrays and intializing X and Y"
      ]
    },
    {
      "cell_type": "code",
      "metadata": {
        "id": "NOibfVbUoP4j",
        "colab": {
          "base_uri": "https://localhost:8080/"
        },
        "outputId": "c5c7e203-a497-41af-b2c7-90c832cfeff0"
      },
      "source": [
        "flat_data=np.array(flat_data_arr)\n",
        "target=np.array(target_arr)\n",
        "df=pd.DataFrame(flat_data)\n",
        "df['Target']=target\n",
        "x=df.iloc[:,:-1] \n",
        "y=df.iloc[:,-1] \n",
        "print(x.head(5))\n",
        "print(y.head(5))"
      ],
      "execution_count": 8,
      "outputs": [
        {
          "output_type": "stream",
          "name": "stdout",
          "text": [
            "     0         1         2       ...    150525    150526    150527\n",
            "0  0.133333  0.141176  0.129412  ...  0.258824  0.258824  0.258824\n",
            "1  1.000000  1.000000  1.000000  ...  1.000000  1.000000  1.000000\n",
            "2  0.992157  0.992157  0.984314  ...  0.996078  0.992157  1.000000\n",
            "3  0.517647  0.654902  0.874510  ...  0.470588  0.435294  0.415686\n",
            "4  0.686275  0.698039  0.670588  ...  0.815686  0.815686  0.784314\n",
            "\n",
            "[5 rows x 150528 columns]\n",
            "0    0\n",
            "1    0\n",
            "2    0\n",
            "3    0\n",
            "4    0\n",
            "Name: Target, dtype: int64\n"
          ]
        }
      ]
    },
    {
      "cell_type": "markdown",
      "metadata": {
        "id": "hpJSRKeOmQA7"
      },
      "source": [
        "## Intializing variables for CNN"
      ]
    },
    {
      "cell_type": "code",
      "metadata": {
        "id": "NX7fzACShXii"
      },
      "source": [
        "train_data_dir = 'v_data/train'\n",
        "validation_data_dir = 'v_data/test'\n",
        "nb_train_samples =400\n",
        "nb_validation_samples = 100\n",
        "epochs = 10\n",
        "batch_size = 16\n",
        "img_width, img_height = 224, 224\n",
        "input_shape = (img_width, img_height, 3)"
      ],
      "execution_count": 9,
      "outputs": []
    },
    {
      "cell_type": "markdown",
      "metadata": {
        "id": "p-Vyt2LVmd8_"
      },
      "source": [
        "## Creating a model and adding layers to the model"
      ]
    },
    {
      "cell_type": "code",
      "metadata": {
        "id": "shBoSDYMhgo9"
      },
      "source": [
        "model = Sequential()\n",
        "model.call = tf.function(model.call)\n",
        "model.add(Conv2D(32, (2, 2), input_shape=input_shape))\n",
        "model.add(Activation('relu'))\n",
        "model.add(MaxPooling2D(pool_size=(2, 2)))\n",
        "\n",
        "model.add(Conv2D(32, (2, 2)))\n",
        "model.add(Activation('relu'))\n",
        "model.add(MaxPooling2D(pool_size=(2, 2)))\n",
        "\n",
        "model.add(Conv2D(64, (2, 2)))\n",
        "model.add(Activation('relu'))\n",
        "model.add(MaxPooling2D(pool_size=(2, 2)))\n",
        "\n",
        "model.add(Flatten())\n",
        "model.add(Dense(64))\n",
        "model.add(Activation('relu'))\n",
        "model.add(Dropout(0.5))\n",
        "model.add(Dense(1))\n",
        "model.add(Activation('sigmoid'))"
      ],
      "execution_count": 26,
      "outputs": []
    },
    {
      "cell_type": "code",
      "metadata": {
        "id": "L3wvebiMhjVt"
      },
      "source": [
        "model.compile(loss='binary_crossentropy',\n",
        "\t\t\toptimizer='rmsprop',\n",
        "\t\t\tmetrics=['accuracy'])"
      ],
      "execution_count": 27,
      "outputs": []
    },
    {
      "cell_type": "markdown",
      "metadata": {
        "id": "FglbJyJFmtRJ"
      },
      "source": [
        "## Genetraing the data from the directories and fitting to the cnn model"
      ]
    },
    {
      "cell_type": "code",
      "metadata": {
        "colab": {
          "base_uri": "https://localhost:8080/"
        },
        "id": "FppuUXK0hlxU",
        "outputId": "72b38e7e-1700-4eba-aa0f-40f4b6e7fa50"
      },
      "source": [
        "train_datagen = ImageDataGenerator(\n",
        "\trescale=1. / 255,\n",
        "\tshear_range=0.2,\n",
        "\tzoom_range=0.2,\n",
        "\thorizontal_flip=True)\n",
        "\n",
        "test_datagen = ImageDataGenerator(rescale=1. / 255)\n",
        "\n",
        "train_generator = train_datagen.flow_from_directory(\n",
        "\ttrain_data_dir,\n",
        "\ttarget_size=(img_width, img_height),\n",
        "\tbatch_size=batch_size,\n",
        "\tclass_mode='binary')\n",
        "\n",
        "validation_generator = test_datagen.flow_from_directory(\n",
        "\tvalidation_data_dir,\n",
        "\ttarget_size=(img_width, img_height),\n",
        "\tbatch_size=batch_size,\n",
        "\tclass_mode='binary')\n",
        "\n",
        "model.fit_generator(\n",
        "\ttrain_generator,\n",
        "\tsteps_per_epoch=nb_train_samples // batch_size,\n",
        "\tepochs=epochs,\n",
        "\tvalidation_data=validation_generator,\n",
        "\tvalidation_steps=nb_validation_samples // batch_size)\n"
      ],
      "execution_count": 29,
      "outputs": [
        {
          "output_type": "stream",
          "name": "stdout",
          "text": [
            "Found 400 images belonging to 2 classes.\n",
            "Found 100 images belonging to 2 classes.\n"
          ]
        },
        {
          "output_type": "stream",
          "name": "stderr",
          "text": [
            "/usr/local/lib/python3.7/dist-packages/ipykernel_launcher.py:26: UserWarning: `Model.fit_generator` is deprecated and will be removed in a future version. Please use `Model.fit`, which supports generators.\n"
          ]
        },
        {
          "output_type": "stream",
          "name": "stdout",
          "text": [
            "Epoch 1/10\n",
            "25/25 [==============================] - 25s 930ms/step - loss: 1.0072 - accuracy: 0.6150 - val_loss: 0.4612 - val_accuracy: 0.9062\n",
            "Epoch 2/10\n",
            "25/25 [==============================] - 24s 936ms/step - loss: 0.5632 - accuracy: 0.7175 - val_loss: 0.4174 - val_accuracy: 0.8021\n",
            "Epoch 3/10\n",
            "25/25 [==============================] - 23s 925ms/step - loss: 0.4833 - accuracy: 0.7850 - val_loss: 0.2866 - val_accuracy: 0.8854\n",
            "Epoch 4/10\n",
            "25/25 [==============================] - 23s 912ms/step - loss: 0.4608 - accuracy: 0.7950 - val_loss: 0.3000 - val_accuracy: 0.8646\n",
            "Epoch 5/10\n",
            "25/25 [==============================] - 23s 922ms/step - loss: 0.3745 - accuracy: 0.8525 - val_loss: 0.3076 - val_accuracy: 0.8542\n",
            "Epoch 6/10\n",
            "25/25 [==============================] - 23s 912ms/step - loss: 0.3804 - accuracy: 0.8550 - val_loss: 0.2633 - val_accuracy: 0.9062\n",
            "Epoch 7/10\n",
            "25/25 [==============================] - 23s 915ms/step - loss: 0.3438 - accuracy: 0.8575 - val_loss: 0.2503 - val_accuracy: 0.8958\n",
            "Epoch 8/10\n",
            "25/25 [==============================] - 23s 918ms/step - loss: 0.3256 - accuracy: 0.8825 - val_loss: 0.3881 - val_accuracy: 0.8229\n",
            "Epoch 9/10\n",
            "25/25 [==============================] - 23s 911ms/step - loss: 0.2994 - accuracy: 0.8750 - val_loss: 0.2539 - val_accuracy: 0.8646\n",
            "Epoch 10/10\n",
            "25/25 [==============================] - 23s 910ms/step - loss: 0.2759 - accuracy: 0.9050 - val_loss: 0.2572 - val_accuracy: 0.8958\n"
          ]
        },
        {
          "output_type": "execute_result",
          "data": {
            "text/plain": [
              "<keras.callbacks.History at 0x7f7c432bf190>"
            ]
          },
          "metadata": {},
          "execution_count": 29
        }
      ]
    },
    {
      "cell_type": "markdown",
      "metadata": {
        "id": "sktnEFZMm4jj"
      },
      "source": [
        "## Prediction of class using CNN model"
      ]
    },
    {
      "cell_type": "code",
      "source": [
        "model.save('my_model.h5')"
      ],
      "metadata": {
        "id": "sH4YYRnCy2Os"
      },
      "execution_count": 30,
      "outputs": []
    },
    {
      "cell_type": "code",
      "metadata": {
        "id": "hE_Nt9cxhvJ4",
        "colab": {
          "base_uri": "https://localhost:8080/"
        },
        "outputId": "64f7e35b-8eae-42e4-9c20-8869e5a5740d"
      },
      "source": [
        "from keras.preprocessing import image\n",
        "img= load_img('v_data/test/cars/5.jpg', target_size=(224, 224))\n",
        "img=image.img_to_array(img)\n",
        "img=np.expand_dims(img,axis=0)\n",
        "label = model.predict(img)\n",
        "print(\"Predicted Class (0 - Cars , 1- Planes): \", np.argmax(label,axis=1))"
      ],
      "execution_count": 23,
      "outputs": [
        {
          "output_type": "stream",
          "name": "stdout",
          "text": [
            "Predicted Class (0 - Cars , 1- Planes):  [0]\n"
          ]
        }
      ]
    },
    {
      "cell_type": "code",
      "source": [
        "number_to_class = ['Car','Plane']\n",
        "index = np.argmax(label,axis=1)\n",
        "type(index[0])\n",
        "number_to_class[index[0]]"
      ],
      "metadata": {
        "id": "N3oxLCwbDnLf",
        "outputId": "90acfd01-9c77-4485-8acc-e3c7d9920b10",
        "colab": {
          "base_uri": "https://localhost:8080/",
          "height": 35
        }
      },
      "execution_count": 37,
      "outputs": [
        {
          "output_type": "execute_result",
          "data": {
            "application/vnd.google.colaboratory.intrinsic+json": {
              "type": "string"
            },
            "text/plain": [
              "'Car'"
            ]
          },
          "metadata": {},
          "execution_count": 37
        }
      ]
    },
    {
      "cell_type": "markdown",
      "metadata": {
        "id": "qklAyzuUm_9y"
      },
      "source": [
        "## Creating Svm model"
      ]
    },
    {
      "cell_type": "code",
      "metadata": {
        "id": "EahBiRAkRsWw"
      },
      "source": [
        "svc=svm.SVC()\n",
        "svc.fit(x,y)"
      ],
      "execution_count": null,
      "outputs": []
    },
    {
      "cell_type": "markdown",
      "metadata": {
        "id": "MwGU4TS2nFAP"
      },
      "source": [
        "## Prediction of class using SVM model"
      ]
    },
    {
      "cell_type": "code",
      "metadata": {
        "id": "03leNQ-wiW4r"
      },
      "source": [
        "img_array=imread('v_data/test/cars/5.jpg')\n",
        "img_resized=resize(img_array,(224,224,3))\n",
        "img=img_resized.flatten()\n",
        "img1=np.array([img])\n",
        "p=svc.predict(img1)\n",
        "print(\"Predicted Class (0 - Cars , 1- Planes): \", p)"
      ],
      "execution_count": null,
      "outputs": []
    }
  ]
}