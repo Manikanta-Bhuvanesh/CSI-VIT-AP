{
  "nbformat": 4,
  "nbformat_minor": 0,
  "metadata": {
    "colab": {
      "name": "CSI task 2(Cas1).ipynb",
      "provenance": [],
      "collapsed_sections": []
    },
    "kernelspec": {
      "name": "python3",
      "display_name": "Python 3"
    },
    "language_info": {
      "name": "python"
    }
  },
  "cells": [
    {
      "cell_type": "code",
      "metadata": {
        "id": "JOi-KJsnzVEA"
      },
      "source": [
        "from keras.preprocessing.image import ImageDataGenerator\n",
        "from keras.models import Sequential\n",
        "from keras.layers import Conv2D, MaxPooling2D\n",
        "from keras.layers import Activation, Dropout, Flatten, Dense\n",
        "from keras import backend as K\n",
        "img_width, img_height = 224, 224"
      ],
      "execution_count": null,
      "outputs": []
    },
    {
      "cell_type": "code",
      "metadata": {
        "id": "-XbVBafn5YHP"
      },
      "source": [
        "#!unzip v_data.zip"
      ],
      "execution_count": null,
      "outputs": []
    },
    {
      "cell_type": "code",
      "metadata": {
        "id": "vr3KM1L20GPm"
      },
      "source": [
        "train_data_dir = 'v_data/train'\n",
        "validation_data_dir = 'v_data/test'\n",
        "nb_train_samples =400\n",
        "nb_validation_samples = 100\n",
        "epochs = 10\n",
        "batch_size = 16"
      ],
      "execution_count": null,
      "outputs": []
    },
    {
      "cell_type": "code",
      "metadata": {
        "id": "Q1uQK68j0Iun"
      },
      "source": [
        "if K.image_data_format() == 'channels_first':\n",
        "\tinput_shape = (3, img_width, img_height)\n",
        "else:\n",
        "\tinput_shape = (img_width, img_height, 3)\n"
      ],
      "execution_count": null,
      "outputs": []
    },
    {
      "cell_type": "code",
      "metadata": {
        "id": "QzoJVkSH0K_y"
      },
      "source": [
        "model = Sequential()\n",
        "model.add(Conv2D(32, (2, 2), input_shape=input_shape))\n",
        "model.add(Activation('relu'))\n",
        "model.add(MaxPooling2D(pool_size=(2, 2)))\n",
        "\n",
        "model.add(Conv2D(32, (2, 2)))\n",
        "model.add(Activation('relu'))\n",
        "model.add(MaxPooling2D(pool_size=(2, 2)))\n",
        "\n",
        "model.add(Conv2D(64, (2, 2)))\n",
        "model.add(Activation('relu'))\n",
        "model.add(MaxPooling2D(pool_size=(2, 2)))\n",
        "\n",
        "model.add(Flatten())\n",
        "model.add(Dense(64))\n",
        "model.add(Activation('relu'))\n",
        "model.add(Dropout(0.5))\n",
        "model.add(Dense(1))\n",
        "model.add(Activation('sigmoid'))\n"
      ],
      "execution_count": null,
      "outputs": []
    },
    {
      "cell_type": "code",
      "metadata": {
        "id": "TNbb0smy0M5S"
      },
      "source": [
        "model.compile(loss='binary_crossentropy',\n",
        "\t\t\toptimizer='rmsprop',\n",
        "\t\t\tmetrics=['accuracy'])"
      ],
      "execution_count": null,
      "outputs": []
    },
    {
      "cell_type": "code",
      "metadata": {
        "id": "wPMGIPcd0PXS",
        "colab": {
          "base_uri": "https://localhost:8080/"
        },
        "outputId": "340ddd30-7d66-4def-9618-9e305063b438"
      },
      "source": [
        "train_datagen = ImageDataGenerator(\n",
        "\trescale=1. / 255,\n",
        "\tshear_range=0.2,\n",
        "\tzoom_range=0.2,\n",
        "\thorizontal_flip=True)\n",
        "\n",
        "test_datagen = ImageDataGenerator(rescale=1. / 255)\n",
        "\n",
        "train_generator = train_datagen.flow_from_directory(\n",
        "\ttrain_data_dir,\n",
        "\ttarget_size=(img_width, img_height),\n",
        "\tbatch_size=batch_size,\n",
        "\tclass_mode='binary')\n",
        "\n",
        "validation_generator = test_datagen.flow_from_directory(\n",
        "\tvalidation_data_dir,\n",
        "\ttarget_size=(img_width, img_height),\n",
        "\tbatch_size=batch_size,\n",
        "\tclass_mode='binary')\n",
        "\n",
        "model.fit_generator(\n",
        "\ttrain_generator,\n",
        "\tsteps_per_epoch=nb_train_samples // batch_size,\n",
        "\tepochs=epochs,\n",
        "\tvalidation_data=validation_generator,\n",
        "\tvalidation_steps=nb_validation_samples // batch_size)"
      ],
      "execution_count": null,
      "outputs": [
        {
          "output_type": "stream",
          "name": "stdout",
          "text": [
            "Found 400 images belonging to 2 classes.\n",
            "Found 100 images belonging to 2 classes.\n"
          ]
        },
        {
          "output_type": "stream",
          "name": "stderr",
          "text": [
            "/usr/local/lib/python3.7/dist-packages/keras/engine/training.py:1972: UserWarning: `Model.fit_generator` is deprecated and will be removed in a future version. Please use `Model.fit`, which supports generators.\n",
            "  warnings.warn('`Model.fit_generator` is deprecated and '\n"
          ]
        },
        {
          "output_type": "stream",
          "name": "stdout",
          "text": [
            "Epoch 1/10\n",
            "25/25 [==============================] - 22s 842ms/step - loss: 0.7013 - accuracy: 0.6175 - val_loss: 0.4283 - val_accuracy: 0.7604\n",
            "Epoch 2/10\n",
            "25/25 [==============================] - 21s 833ms/step - loss: 0.5786 - accuracy: 0.7425 - val_loss: 0.3383 - val_accuracy: 0.9062\n",
            "Epoch 3/10\n",
            "25/25 [==============================] - 21s 824ms/step - loss: 0.4532 - accuracy: 0.8050 - val_loss: 0.4602 - val_accuracy: 0.7292\n",
            "Epoch 4/10\n",
            "25/25 [==============================] - 21s 833ms/step - loss: 0.3815 - accuracy: 0.8625 - val_loss: 0.4061 - val_accuracy: 0.8021\n",
            "Epoch 5/10\n",
            "25/25 [==============================] - 21s 832ms/step - loss: 0.3626 - accuracy: 0.8375 - val_loss: 0.2870 - val_accuracy: 0.8750\n",
            "Epoch 6/10\n",
            "25/25 [==============================] - 21s 826ms/step - loss: 0.3442 - accuracy: 0.8650 - val_loss: 0.5925 - val_accuracy: 0.7812\n",
            "Epoch 7/10\n",
            "25/25 [==============================] - 21s 841ms/step - loss: 0.3158 - accuracy: 0.8925 - val_loss: 0.4211 - val_accuracy: 0.8333\n",
            "Epoch 8/10\n",
            "25/25 [==============================] - 21s 841ms/step - loss: 0.3462 - accuracy: 0.8575 - val_loss: 0.3003 - val_accuracy: 0.8542\n",
            "Epoch 9/10\n",
            "25/25 [==============================] - 21s 824ms/step - loss: 0.2994 - accuracy: 0.8975 - val_loss: 0.2419 - val_accuracy: 0.9062\n",
            "Epoch 10/10\n",
            "25/25 [==============================] - 21s 835ms/step - loss: 0.2940 - accuracy: 0.8950 - val_loss: 0.3024 - val_accuracy: 0.8958\n"
          ]
        },
        {
          "output_type": "execute_result",
          "data": {
            "text/plain": [
              "<keras.callbacks.History at 0x7fdc86a09a90>"
            ]
          },
          "metadata": {},
          "execution_count": 60
        }
      ]
    },
    {
      "cell_type": "code",
      "metadata": {
        "id": "bhGIWYXv02Ku",
        "colab": {
          "base_uri": "https://localhost:8080/"
        },
        "outputId": "6e9a539b-74e0-4eda-b3bb-b0a05bd7616c"
      },
      "source": [
        "import numpy as np\n",
        "\n",
        "image = load_img('v_data/test/cars/5.jpg', target_size=(227, 227))\n",
        "img = np.array(image)\n",
        "img = img / 255.0\n",
        "img = img.reshape(1,227,227,3)\n",
        "label = model.predict(img)\n",
        "print(\"Predicted Class (0 - Cars , 1- Planes): \", np.argmax(label,axis=1))"
      ],
      "execution_count": null,
      "outputs": [
        {
          "output_type": "stream",
          "name": "stdout",
          "text": [
            "WARNING:tensorflow:Model was constructed with shape (None, 224, 224, 3) for input KerasTensor(type_spec=TensorSpec(shape=(None, 224, 224, 3), dtype=tf.float32, name='conv2d_13_input'), name='conv2d_13_input', description=\"created by layer 'conv2d_13_input'\"), but it was called on an input with incompatible shape (None, 227, 227, 3).\n",
            "Predicted Class (0 - Cars , 1- Planes):  [0]\n"
          ]
        }
      ]
    },
    {
      "cell_type": "code",
      "metadata": {
        "colab": {
          "base_uri": "https://localhost:8080/"
        },
        "id": "awcCZ2QdgbY4",
        "outputId": "2083f484-d659-4177-e68a-8c010d7a245a"
      },
      "source": [
        "print(train_generator)\n"
      ],
      "execution_count": null,
      "outputs": [
        {
          "output_type": "stream",
          "name": "stdout",
          "text": [
            "<keras.preprocessing.image.DirectoryIterator object at 0x7fdc869ba810>\n"
          ]
        }
      ]
    }
  ]
}