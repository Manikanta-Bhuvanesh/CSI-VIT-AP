{
  "nbformat": 4,
  "nbformat_minor": 0,
  "metadata": {
    "colab": {
      "name": "CSI task 2 (Case3).ipynb",
      "provenance": [],
      "collapsed_sections": []
    },
    "kernelspec": {
      "name": "python3",
      "display_name": "Python 3"
    },
    "language_info": {
      "name": "python"
    }
  },
  "cells": [
    {
      "cell_type": "markdown",
      "metadata": {
        "id": "9H5Y4k7SlFCM"
      },
      "source": [
        "### Data set contains train set and test set with two classes cars and planes.Predicting class using car or plane"
      ]
    },
    {
      "cell_type": "markdown",
      "metadata": {
        "id": "ZSAzbpltlVa6"
      },
      "source": [
        "## Unzipping the data"
      ]
    },
    {
      "cell_type": "code",
      "metadata": {
        "id": "ieJEeRCtOuZV"
      },
      "source": [
        "#!unzip v_data.zip"
      ],
      "execution_count": null,
      "outputs": []
    },
    {
      "cell_type": "markdown",
      "metadata": {
        "id": "2j3Xg-_zlm7F"
      },
      "source": [
        "## Imported all needed packages"
      ]
    },
    {
      "cell_type": "code",
      "metadata": {
        "id": "Gkn-Gxcblb1x"
      },
      "source": [
        "import pandas as pd\n",
        "import os\n",
        "from skimage.transform import resize\n",
        "from skimage.io import imread\n",
        "import pandas as pd\n",
        "import numpy as np\n",
        "from keras.preprocessing.image import ImageDataGenerator\n",
        "from keras.models import Sequential\n",
        "from keras.layers import Conv2D, MaxPooling2D\n",
        "from keras.layers import Activation, Dropout, Flatten, Dense\n",
        "from keras import backend as K\n",
        "from keras.preprocessing.image import load_img\n",
        "from sklearn import svm"
      ],
      "execution_count": null,
      "outputs": []
    },
    {
      "cell_type": "markdown",
      "metadata": {
        "id": "QmrvmuZjludM"
      },
      "source": [
        "## Reading images and appending to arrays"
      ]
    },
    {
      "cell_type": "code",
      "metadata": {
        "id": "FoKh6d7APRzz"
      },
      "source": [
        "Categories=['cars','planes']\n",
        "flat_data_arr=[] #input array\n",
        "target_arr=[] #output array\n",
        "datadir='v_data/train' \n",
        "for i in Categories:\n",
        "    path=os.path.join(datadir,i)\n",
        "    for img in os.listdir(path):\n",
        "        img_array=imread(os.path.join(path,img))\n",
        "        img_resized=resize(img_array,(224,224,3))\n",
        "        flat_data_arr.append(img_resized.flatten())\n",
        "        target_arr.append(Categories.index(i))\n"
      ],
      "execution_count": null,
      "outputs": []
    },
    {
      "cell_type": "markdown",
      "metadata": {
        "id": "MwfVSXNVmEF9"
      },
      "source": [
        "## Coverting to numpy arrays and intializing X and Y"
      ]
    },
    {
      "cell_type": "code",
      "metadata": {
        "id": "NOibfVbUoP4j",
        "colab": {
          "base_uri": "https://localhost:8080/"
        },
        "outputId": "4d14f8a8-3bd9-45ae-e214-e3bab89533b6"
      },
      "source": [
        "flat_data=np.array(flat_data_arr)\n",
        "target=np.array(target_arr)\n",
        "df=pd.DataFrame(flat_data)\n",
        "df['Target']=target\n",
        "x=df.iloc[:,:-1] \n",
        "y=df.iloc[:,-1] \n",
        "print(x.head(5))\n",
        "print(y.head(5))"
      ],
      "execution_count": null,
      "outputs": [
        {
          "output_type": "stream",
          "name": "stdout",
          "text": [
            "     0         1         2       ...    150525    150526    150527\n",
            "0  0.996078  1.000000  1.000000  ...  1.000000  1.000000  0.984314\n",
            "1  0.094118  0.113725  0.090196  ...  0.109804  0.121569  0.086275\n",
            "2  0.105882  0.105882  0.113725  ...  0.352941  0.356863  0.364706\n",
            "3  0.866667  0.831373  0.701961  ...  0.960784  0.917647  0.839216\n",
            "4  0.462745  0.545098  0.658824  ...  0.337255  0.337255  0.329412\n",
            "\n",
            "[5 rows x 150528 columns]\n",
            "0    0\n",
            "1    0\n",
            "2    0\n",
            "3    0\n",
            "4    0\n",
            "Name: Target, dtype: int64\n"
          ]
        }
      ]
    },
    {
      "cell_type": "markdown",
      "metadata": {
        "id": "hpJSRKeOmQA7"
      },
      "source": [
        "## Intializing variables for CNN"
      ]
    },
    {
      "cell_type": "code",
      "metadata": {
        "id": "NX7fzACShXii"
      },
      "source": [
        "train_data_dir = 'v_data/train'\n",
        "validation_data_dir = 'v_data/test'\n",
        "nb_train_samples =400\n",
        "nb_validation_samples = 100\n",
        "epochs = 10\n",
        "batch_size = 16\n",
        "img_width, img_height = 224, 224\n",
        "input_shape = (img_width, img_height, 3)"
      ],
      "execution_count": null,
      "outputs": []
    },
    {
      "cell_type": "markdown",
      "metadata": {
        "id": "p-Vyt2LVmd8_"
      },
      "source": [
        "## Creating a model and adding layers to the model"
      ]
    },
    {
      "cell_type": "code",
      "metadata": {
        "id": "shBoSDYMhgo9"
      },
      "source": [
        "model = Sequential()\n",
        "model.add(Conv2D(32, (2, 2), input_shape=input_shape))\n",
        "model.add(Activation('relu'))\n",
        "model.add(MaxPooling2D(pool_size=(2, 2)))\n",
        "\n",
        "model.add(Conv2D(32, (2, 2)))\n",
        "model.add(Activation('relu'))\n",
        "model.add(MaxPooling2D(pool_size=(2, 2)))\n",
        "\n",
        "model.add(Conv2D(64, (2, 2)))\n",
        "model.add(Activation('relu'))\n",
        "model.add(MaxPooling2D(pool_size=(2, 2)))\n",
        "\n",
        "model.add(Flatten())\n",
        "model.add(Dense(64))\n",
        "model.add(Activation('relu'))\n",
        "model.add(Dropout(0.5))\n",
        "model.add(Dense(1))\n",
        "model.add(Activation('sigmoid'))"
      ],
      "execution_count": null,
      "outputs": []
    },
    {
      "cell_type": "code",
      "metadata": {
        "id": "L3wvebiMhjVt"
      },
      "source": [
        "model.compile(loss='binary_crossentropy',\n",
        "\t\t\toptimizer='rmsprop',\n",
        "\t\t\tmetrics=['accuracy'])"
      ],
      "execution_count": null,
      "outputs": []
    },
    {
      "cell_type": "markdown",
      "metadata": {
        "id": "FglbJyJFmtRJ"
      },
      "source": [
        "## Genetraing the data from the directories and fitting to the cnn model"
      ]
    },
    {
      "cell_type": "code",
      "metadata": {
        "colab": {
          "base_uri": "https://localhost:8080/"
        },
        "id": "FppuUXK0hlxU",
        "outputId": "d63839b1-6dd6-479c-b999-8464e6b06619"
      },
      "source": [
        "train_datagen = ImageDataGenerator(\n",
        "\trescale=1. / 255,\n",
        "\tshear_range=0.2,\n",
        "\tzoom_range=0.2,\n",
        "\thorizontal_flip=True)\n",
        "\n",
        "test_datagen = ImageDataGenerator(rescale=1. / 255)\n",
        "\n",
        "train_generator = train_datagen.flow_from_directory(\n",
        "\ttrain_data_dir,\n",
        "\ttarget_size=(img_width, img_height),\n",
        "\tbatch_size=batch_size,\n",
        "\tclass_mode='binary')\n",
        "\n",
        "validation_generator = test_datagen.flow_from_directory(\n",
        "\tvalidation_data_dir,\n",
        "\ttarget_size=(img_width, img_height),\n",
        "\tbatch_size=batch_size,\n",
        "\tclass_mode='binary')\n",
        "\n",
        "model.fit_generator(\n",
        "\ttrain_generator,\n",
        "\tsteps_per_epoch=nb_train_samples // batch_size,\n",
        "\tepochs=epochs,\n",
        "\tvalidation_data=validation_generator,\n",
        "\tvalidation_steps=nb_validation_samples // batch_size)\n"
      ],
      "execution_count": null,
      "outputs": [
        {
          "output_type": "stream",
          "name": "stdout",
          "text": [
            "Found 400 images belonging to 2 classes.\n",
            "Found 100 images belonging to 2 classes.\n"
          ]
        },
        {
          "output_type": "stream",
          "name": "stderr",
          "text": [
            "/usr/local/lib/python3.7/dist-packages/keras/engine/training.py:1972: UserWarning: `Model.fit_generator` is deprecated and will be removed in a future version. Please use `Model.fit`, which supports generators.\n",
            "  warnings.warn('`Model.fit_generator` is deprecated and '\n"
          ]
        },
        {
          "output_type": "stream",
          "name": "stdout",
          "text": [
            "Epoch 1/10\n",
            "25/25 [==============================] - 20s 808ms/step - loss: 0.5474 - accuracy: 0.7375 - val_loss: 0.3875 - val_accuracy: 0.8854\n",
            "Epoch 2/10\n",
            "25/25 [==============================] - 20s 803ms/step - loss: 0.4802 - accuracy: 0.7775 - val_loss: 0.3106 - val_accuracy: 0.9062\n",
            "Epoch 3/10\n",
            "25/25 [==============================] - 20s 808ms/step - loss: 0.4278 - accuracy: 0.8125 - val_loss: 0.4719 - val_accuracy: 0.7812\n",
            "Epoch 4/10\n",
            "25/25 [==============================] - 21s 816ms/step - loss: 0.4224 - accuracy: 0.8075 - val_loss: 0.3151 - val_accuracy: 0.8750\n",
            "Epoch 5/10\n",
            "25/25 [==============================] - 20s 800ms/step - loss: 0.3604 - accuracy: 0.8375 - val_loss: 0.2660 - val_accuracy: 0.8750\n",
            "Epoch 6/10\n",
            "25/25 [==============================] - 20s 802ms/step - loss: 0.3499 - accuracy: 0.8475 - val_loss: 0.3788 - val_accuracy: 0.8333\n",
            "Epoch 7/10\n",
            "25/25 [==============================] - 20s 799ms/step - loss: 0.3521 - accuracy: 0.8550 - val_loss: 0.3820 - val_accuracy: 0.8438\n",
            "Epoch 8/10\n",
            "25/25 [==============================] - 20s 803ms/step - loss: 0.3220 - accuracy: 0.8850 - val_loss: 0.2714 - val_accuracy: 0.8646\n",
            "Epoch 9/10\n",
            "25/25 [==============================] - 20s 795ms/step - loss: 0.3264 - accuracy: 0.8750 - val_loss: 0.2640 - val_accuracy: 0.9062\n",
            "Epoch 10/10\n",
            "25/25 [==============================] - 20s 793ms/step - loss: 0.2836 - accuracy: 0.8850 - val_loss: 0.4179 - val_accuracy: 0.8333\n"
          ]
        },
        {
          "output_type": "execute_result",
          "data": {
            "text/plain": [
              "<keras.callbacks.History at 0x7f8a52623710>"
            ]
          },
          "metadata": {},
          "execution_count": 16
        }
      ]
    },
    {
      "cell_type": "markdown",
      "metadata": {
        "id": "sktnEFZMm4jj"
      },
      "source": [
        "## Prediction of class using CNN model"
      ]
    },
    {
      "cell_type": "code",
      "metadata": {
        "id": "hE_Nt9cxhvJ4",
        "colab": {
          "base_uri": "https://localhost:8080/"
        },
        "outputId": "5f06450f-6b0d-4ce4-ee39-9a3056bcc2fd"
      },
      "source": [
        "image = load_img('v_data/test/cars/5.jpg', target_size=(227, 227))\n",
        "img = np.array(image)\n",
        "img = img / 255.0\n",
        "img = img.reshape(1,227,227,3)\n",
        "label = model.predict(img)\n",
        "print(\"Predicted Class (0 - Cars , 1- Planes): \", np.argmax(label,axis=1))"
      ],
      "execution_count": null,
      "outputs": [
        {
          "output_type": "stream",
          "name": "stdout",
          "text": [
            "WARNING:tensorflow:Model was constructed with shape (None, 224, 224, 3) for input KerasTensor(type_spec=TensorSpec(shape=(None, 224, 224, 3), dtype=tf.float32, name='conv2d_6_input'), name='conv2d_6_input', description=\"created by layer 'conv2d_6_input'\"), but it was called on an input with incompatible shape (None, 227, 227, 3).\n",
            "Predicted Class (0 - Cars , 1- Planes):  [0]\n"
          ]
        }
      ]
    },
    {
      "cell_type": "markdown",
      "metadata": {
        "id": "qklAyzuUm_9y"
      },
      "source": [
        "## Creating Svm model"
      ]
    },
    {
      "cell_type": "code",
      "metadata": {
        "id": "EahBiRAkRsWw",
        "colab": {
          "base_uri": "https://localhost:8080/"
        },
        "outputId": "71cc8bb2-1351-45e6-9cce-09095e31625a"
      },
      "source": [
        "svc=svm.SVC()\n",
        "svc.fit(x,y)"
      ],
      "execution_count": null,
      "outputs": [
        {
          "output_type": "execute_result",
          "data": {
            "text/plain": [
              "SVC(C=1.0, break_ties=False, cache_size=200, class_weight=None, coef0=0.0,\n",
              "    decision_function_shape='ovr', degree=3, gamma='scale', kernel='rbf',\n",
              "    max_iter=-1, probability=False, random_state=None, shrinking=True,\n",
              "    tol=0.001, verbose=False)"
            ]
          },
          "metadata": {},
          "execution_count": 18
        }
      ]
    },
    {
      "cell_type": "markdown",
      "metadata": {
        "id": "MwGU4TS2nFAP"
      },
      "source": [
        "## Prediction of class using SVM model"
      ]
    },
    {
      "cell_type": "code",
      "metadata": {
        "id": "03leNQ-wiW4r",
        "colab": {
          "base_uri": "https://localhost:8080/"
        },
        "outputId": "82129e04-44f2-4874-d2e2-343031d29e2c"
      },
      "source": [
        "img_array=imread('v_data/test/cars/5.jpg')\n",
        "img_resized=resize(img_array,(224,224,3))\n",
        "img=img_resized.flatten()\n",
        "img1=np.array([img])\n",
        "p=svc.predict(img1)\n",
        "print(\"Predicted Class (0 - Cars , 1- Planes): \", p)"
      ],
      "execution_count": null,
      "outputs": [
        {
          "output_type": "stream",
          "name": "stdout",
          "text": [
            "Predicted Class (0 - Cars , 1- Planes):  [0]\n"
          ]
        }
      ]
    }
  ]
}