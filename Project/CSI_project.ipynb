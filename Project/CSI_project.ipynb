{
  "nbformat": 4,
  "nbformat_minor": 0,
  "metadata": {
    "colab": {
      "name": "CSI project.ipynb",
      "provenance": []
    },
    "kernelspec": {
      "name": "python3",
      "display_name": "Python 3"
    },
    "language_info": {
      "name": "python"
    }
  },
  "cells": [
    {
      "cell_type": "markdown",
      "metadata": {
        "id": "TK5S_t27-Lua"
      },
      "source": [
        "### Two data sets of phishing websites and legimit websites Extrcting feauters from the urls and Predicting phising websites using machine learning algorithms"
      ]
    },
    {
      "cell_type": "code",
      "metadata": {
        "id": "2Hw3l-oF4Vm5"
      },
      "source": [
        "import pandas as pd\n",
        "import numpy as np"
      ],
      "execution_count": null,
      "outputs": []
    },
    {
      "cell_type": "markdown",
      "metadata": {
        "id": "HCnoSY68tDP0"
      },
      "source": [
        "## Loaded data"
      ]
    },
    {
      "cell_type": "code",
      "metadata": {
        "id": "q7v7UPsIGuP2",
        "colab": {
          "base_uri": "https://localhost:8080/",
          "height": 203
        },
        "outputId": "195471b7-b4b5-4c61-a00c-4469ff45b631"
      },
      "source": [
        "data1=pd.read_csv(\"Benign_list_big_final.csv\")\n",
        "data2=pd.read_csv(\"online-valid.csv\")\n",
        "data1.columns = ['url']\n",
        "data1[\"label\"]=0\n",
        "data1.head()"
      ],
      "execution_count": null,
      "outputs": [
        {
          "output_type": "execute_result",
          "data": {
            "text/html": [
              "<div>\n",
              "<style scoped>\n",
              "    .dataframe tbody tr th:only-of-type {\n",
              "        vertical-align: middle;\n",
              "    }\n",
              "\n",
              "    .dataframe tbody tr th {\n",
              "        vertical-align: top;\n",
              "    }\n",
              "\n",
              "    .dataframe thead th {\n",
              "        text-align: right;\n",
              "    }\n",
              "</style>\n",
              "<table border=\"1\" class=\"dataframe\">\n",
              "  <thead>\n",
              "    <tr style=\"text-align: right;\">\n",
              "      <th></th>\n",
              "      <th>url</th>\n",
              "      <th>label</th>\n",
              "    </tr>\n",
              "  </thead>\n",
              "  <tbody>\n",
              "    <tr>\n",
              "      <th>0</th>\n",
              "      <td>http://1337x.to/torrent/1110018/Blackhat-2015-...</td>\n",
              "      <td>0</td>\n",
              "    </tr>\n",
              "    <tr>\n",
              "      <th>1</th>\n",
              "      <td>http://1337x.to/torrent/1122940/Blackhat-2015-...</td>\n",
              "      <td>0</td>\n",
              "    </tr>\n",
              "    <tr>\n",
              "      <th>2</th>\n",
              "      <td>http://1337x.to/torrent/1124395/Fast-and-Furio...</td>\n",
              "      <td>0</td>\n",
              "    </tr>\n",
              "    <tr>\n",
              "      <th>3</th>\n",
              "      <td>http://1337x.to/torrent/1145504/Avengers-Age-o...</td>\n",
              "      <td>0</td>\n",
              "    </tr>\n",
              "    <tr>\n",
              "      <th>4</th>\n",
              "      <td>http://1337x.to/torrent/1160078/Avengers-age-o...</td>\n",
              "      <td>0</td>\n",
              "    </tr>\n",
              "  </tbody>\n",
              "</table>\n",
              "</div>"
            ],
            "text/plain": [
              "                                                 url  label\n",
              "0  http://1337x.to/torrent/1110018/Blackhat-2015-...      0\n",
              "1  http://1337x.to/torrent/1122940/Blackhat-2015-...      0\n",
              "2  http://1337x.to/torrent/1124395/Fast-and-Furio...      0\n",
              "3  http://1337x.to/torrent/1145504/Avengers-Age-o...      0\n",
              "4  http://1337x.to/torrent/1160078/Avengers-age-o...      0"
            ]
          },
          "metadata": {},
          "execution_count": 190
        }
      ]
    },
    {
      "cell_type": "code",
      "metadata": {
        "id": "fLL-bCnUHENn",
        "colab": {
          "base_uri": "https://localhost:8080/",
          "height": 203
        },
        "outputId": "8a2fdaec-819a-4b30-ccc8-d40073b36851"
      },
      "source": [
        "data2[\"label\"]=1\n",
        "data2=data2[['url','label']]\n",
        "data2.head()"
      ],
      "execution_count": null,
      "outputs": [
        {
          "output_type": "execute_result",
          "data": {
            "text/html": [
              "<div>\n",
              "<style scoped>\n",
              "    .dataframe tbody tr th:only-of-type {\n",
              "        vertical-align: middle;\n",
              "    }\n",
              "\n",
              "    .dataframe tbody tr th {\n",
              "        vertical-align: top;\n",
              "    }\n",
              "\n",
              "    .dataframe thead th {\n",
              "        text-align: right;\n",
              "    }\n",
              "</style>\n",
              "<table border=\"1\" class=\"dataframe\">\n",
              "  <thead>\n",
              "    <tr style=\"text-align: right;\">\n",
              "      <th></th>\n",
              "      <th>url</th>\n",
              "      <th>label</th>\n",
              "    </tr>\n",
              "  </thead>\n",
              "  <tbody>\n",
              "    <tr>\n",
              "      <th>0</th>\n",
              "      <td>http://u1047531.cp.regruhosting.ru/acces-inges...</td>\n",
              "      <td>1</td>\n",
              "    </tr>\n",
              "    <tr>\n",
              "      <th>1</th>\n",
              "      <td>http://hoysalacreations.com/wp-content/plugins...</td>\n",
              "      <td>1</td>\n",
              "    </tr>\n",
              "    <tr>\n",
              "      <th>2</th>\n",
              "      <td>http://www.accsystemprblemhelp.site/checkpoint...</td>\n",
              "      <td>1</td>\n",
              "    </tr>\n",
              "    <tr>\n",
              "      <th>3</th>\n",
              "      <td>http://www.accsystemprblemhelp.site/login_atte...</td>\n",
              "      <td>1</td>\n",
              "    </tr>\n",
              "    <tr>\n",
              "      <th>4</th>\n",
              "      <td>https://firebasestorage.googleapis.com/v0/b/so...</td>\n",
              "      <td>1</td>\n",
              "    </tr>\n",
              "  </tbody>\n",
              "</table>\n",
              "</div>"
            ],
            "text/plain": [
              "                                                 url  label\n",
              "0  http://u1047531.cp.regruhosting.ru/acces-inges...      1\n",
              "1  http://hoysalacreations.com/wp-content/plugins...      1\n",
              "2  http://www.accsystemprblemhelp.site/checkpoint...      1\n",
              "3  http://www.accsystemprblemhelp.site/login_atte...      1\n",
              "4  https://firebasestorage.googleapis.com/v0/b/so...      1"
            ]
          },
          "metadata": {},
          "execution_count": 191
        }
      ]
    },
    {
      "cell_type": "markdown",
      "metadata": {
        "id": "6x-uXgJhtIHa"
      },
      "source": [
        "## Combining two datas"
      ]
    },
    {
      "cell_type": "code",
      "metadata": {
        "id": "uM2L4V6PJoUL",
        "colab": {
          "base_uri": "https://localhost:8080/"
        },
        "outputId": "afbd4c27-84a1-4742-8c45-b37d3160f38b"
      },
      "source": [
        "df=pd.concat([data1,data2])\n",
        "df.shape"
      ],
      "execution_count": null,
      "outputs": [
        {
          "output_type": "execute_result",
          "data": {
            "text/plain": [
              "(50235, 2)"
            ]
          },
          "metadata": {},
          "execution_count": 192
        }
      ]
    },
    {
      "cell_type": "code",
      "metadata": {
        "id": "Sy9_dKpvKet9",
        "colab": {
          "base_uri": "https://localhost:8080/",
          "height": 417
        },
        "outputId": "27f48f89-efd1-4de3-caeb-2a78c368f6d0"
      },
      "source": [
        "df.reset_index(drop=True)"
      ],
      "execution_count": null,
      "outputs": [
        {
          "output_type": "execute_result",
          "data": {
            "text/html": [
              "<div>\n",
              "<style scoped>\n",
              "    .dataframe tbody tr th:only-of-type {\n",
              "        vertical-align: middle;\n",
              "    }\n",
              "\n",
              "    .dataframe tbody tr th {\n",
              "        vertical-align: top;\n",
              "    }\n",
              "\n",
              "    .dataframe thead th {\n",
              "        text-align: right;\n",
              "    }\n",
              "</style>\n",
              "<table border=\"1\" class=\"dataframe\">\n",
              "  <thead>\n",
              "    <tr style=\"text-align: right;\">\n",
              "      <th></th>\n",
              "      <th>url</th>\n",
              "      <th>label</th>\n",
              "    </tr>\n",
              "  </thead>\n",
              "  <tbody>\n",
              "    <tr>\n",
              "      <th>0</th>\n",
              "      <td>http://1337x.to/torrent/1110018/Blackhat-2015-...</td>\n",
              "      <td>0</td>\n",
              "    </tr>\n",
              "    <tr>\n",
              "      <th>1</th>\n",
              "      <td>http://1337x.to/torrent/1122940/Blackhat-2015-...</td>\n",
              "      <td>0</td>\n",
              "    </tr>\n",
              "    <tr>\n",
              "      <th>2</th>\n",
              "      <td>http://1337x.to/torrent/1124395/Fast-and-Furio...</td>\n",
              "      <td>0</td>\n",
              "    </tr>\n",
              "    <tr>\n",
              "      <th>3</th>\n",
              "      <td>http://1337x.to/torrent/1145504/Avengers-Age-o...</td>\n",
              "      <td>0</td>\n",
              "    </tr>\n",
              "    <tr>\n",
              "      <th>4</th>\n",
              "      <td>http://1337x.to/torrent/1160078/Avengers-age-o...</td>\n",
              "      <td>0</td>\n",
              "    </tr>\n",
              "    <tr>\n",
              "      <th>...</th>\n",
              "      <td>...</td>\n",
              "      <td>...</td>\n",
              "    </tr>\n",
              "    <tr>\n",
              "      <th>50230</th>\n",
              "      <td>http://bancoestado700.blogspot.com/</td>\n",
              "      <td>1</td>\n",
              "    </tr>\n",
              "    <tr>\n",
              "      <th>50231</th>\n",
              "      <td>http://www.habbocreditosparati.blogspot.com/</td>\n",
              "      <td>1</td>\n",
              "    </tr>\n",
              "    <tr>\n",
              "      <th>50232</th>\n",
              "      <td>http://creditiperhabbogratissicuro100.blogspot...</td>\n",
              "      <td>1</td>\n",
              "    </tr>\n",
              "    <tr>\n",
              "      <th>50233</th>\n",
              "      <td>http://mundovirtualhabbo.blogspot.com/2009_01_...</td>\n",
              "      <td>1</td>\n",
              "    </tr>\n",
              "    <tr>\n",
              "      <th>50234</th>\n",
              "      <td>http://aijcs.blogspot.com/2005/03/colourful-li...</td>\n",
              "      <td>1</td>\n",
              "    </tr>\n",
              "  </tbody>\n",
              "</table>\n",
              "<p>50235 rows × 2 columns</p>\n",
              "</div>"
            ],
            "text/plain": [
              "                                                     url  label\n",
              "0      http://1337x.to/torrent/1110018/Blackhat-2015-...      0\n",
              "1      http://1337x.to/torrent/1122940/Blackhat-2015-...      0\n",
              "2      http://1337x.to/torrent/1124395/Fast-and-Furio...      0\n",
              "3      http://1337x.to/torrent/1145504/Avengers-Age-o...      0\n",
              "4      http://1337x.to/torrent/1160078/Avengers-age-o...      0\n",
              "...                                                  ...    ...\n",
              "50230                http://bancoestado700.blogspot.com/      1\n",
              "50231       http://www.habbocreditosparati.blogspot.com/      1\n",
              "50232  http://creditiperhabbogratissicuro100.blogspot...      1\n",
              "50233  http://mundovirtualhabbo.blogspot.com/2009_01_...      1\n",
              "50234  http://aijcs.blogspot.com/2005/03/colourful-li...      1\n",
              "\n",
              "[50235 rows x 2 columns]"
            ]
          },
          "metadata": {},
          "execution_count": 193
        }
      ]
    },
    {
      "cell_type": "code",
      "metadata": {
        "id": "DFeToZ0qK--g"
      },
      "source": [
        "from urllib.parse import urlparse,urlencode\n",
        "import urllib.request\n",
        "import ipaddress\n",
        "import re"
      ],
      "execution_count": null,
      "outputs": []
    },
    {
      "cell_type": "markdown",
      "metadata": {
        "id": "yttKZ-XftSy1"
      },
      "source": [
        "## Adding properties for each row of url"
      ]
    },
    {
      "cell_type": "code",
      "metadata": {
        "id": "hQTDbikDLKdi"
      },
      "source": [
        "def getDomain(url): \n",
        "  domain = urlparse(url).netloc\n",
        "  return domain"
      ],
      "execution_count": null,
      "outputs": []
    },
    {
      "cell_type": "code",
      "metadata": {
        "id": "7RpBRIdAL0PQ",
        "colab": {
          "base_uri": "https://localhost:8080/",
          "height": 203
        },
        "outputId": "27df49ce-2dad-45b8-aa94-b1e1f39d39c3"
      },
      "source": [
        "df['domain']=df['url'].apply(getDomain)\n",
        "df.head()"
      ],
      "execution_count": null,
      "outputs": [
        {
          "output_type": "execute_result",
          "data": {
            "text/html": [
              "<div>\n",
              "<style scoped>\n",
              "    .dataframe tbody tr th:only-of-type {\n",
              "        vertical-align: middle;\n",
              "    }\n",
              "\n",
              "    .dataframe tbody tr th {\n",
              "        vertical-align: top;\n",
              "    }\n",
              "\n",
              "    .dataframe thead th {\n",
              "        text-align: right;\n",
              "    }\n",
              "</style>\n",
              "<table border=\"1\" class=\"dataframe\">\n",
              "  <thead>\n",
              "    <tr style=\"text-align: right;\">\n",
              "      <th></th>\n",
              "      <th>url</th>\n",
              "      <th>label</th>\n",
              "      <th>domain</th>\n",
              "    </tr>\n",
              "  </thead>\n",
              "  <tbody>\n",
              "    <tr>\n",
              "      <th>0</th>\n",
              "      <td>http://1337x.to/torrent/1110018/Blackhat-2015-...</td>\n",
              "      <td>0</td>\n",
              "      <td>1337x.to</td>\n",
              "    </tr>\n",
              "    <tr>\n",
              "      <th>1</th>\n",
              "      <td>http://1337x.to/torrent/1122940/Blackhat-2015-...</td>\n",
              "      <td>0</td>\n",
              "      <td>1337x.to</td>\n",
              "    </tr>\n",
              "    <tr>\n",
              "      <th>2</th>\n",
              "      <td>http://1337x.to/torrent/1124395/Fast-and-Furio...</td>\n",
              "      <td>0</td>\n",
              "      <td>1337x.to</td>\n",
              "    </tr>\n",
              "    <tr>\n",
              "      <th>3</th>\n",
              "      <td>http://1337x.to/torrent/1145504/Avengers-Age-o...</td>\n",
              "      <td>0</td>\n",
              "      <td>1337x.to</td>\n",
              "    </tr>\n",
              "    <tr>\n",
              "      <th>4</th>\n",
              "      <td>http://1337x.to/torrent/1160078/Avengers-age-o...</td>\n",
              "      <td>0</td>\n",
              "      <td>1337x.to</td>\n",
              "    </tr>\n",
              "  </tbody>\n",
              "</table>\n",
              "</div>"
            ],
            "text/plain": [
              "                                                 url  label    domain\n",
              "0  http://1337x.to/torrent/1110018/Blackhat-2015-...      0  1337x.to\n",
              "1  http://1337x.to/torrent/1122940/Blackhat-2015-...      0  1337x.to\n",
              "2  http://1337x.to/torrent/1124395/Fast-and-Furio...      0  1337x.to\n",
              "3  http://1337x.to/torrent/1145504/Avengers-Age-o...      0  1337x.to\n",
              "4  http://1337x.to/torrent/1160078/Avengers-age-o...      0  1337x.to"
            ]
          },
          "metadata": {},
          "execution_count": 196
        }
      ]
    },
    {
      "cell_type": "code",
      "metadata": {
        "id": "k5AQssrJMXgJ"
      },
      "source": [
        "def havingIP(url):\n",
        "  try:\n",
        "    ipaddress.ip_address(url)\n",
        "    ip = 1\n",
        "  except:\n",
        "    ip = 0\n",
        "  return ip"
      ],
      "execution_count": null,
      "outputs": []
    },
    {
      "cell_type": "code",
      "metadata": {
        "id": "h5Tx-WOrM9G2",
        "colab": {
          "base_uri": "https://localhost:8080/",
          "height": 203
        },
        "outputId": "8aa5ac6b-e2b9-4cda-bc5b-1520eba9b67b"
      },
      "source": [
        "df['having_ip']=df['url'].apply(havingIP)\n",
        "df.head()"
      ],
      "execution_count": null,
      "outputs": [
        {
          "output_type": "execute_result",
          "data": {
            "text/html": [
              "<div>\n",
              "<style scoped>\n",
              "    .dataframe tbody tr th:only-of-type {\n",
              "        vertical-align: middle;\n",
              "    }\n",
              "\n",
              "    .dataframe tbody tr th {\n",
              "        vertical-align: top;\n",
              "    }\n",
              "\n",
              "    .dataframe thead th {\n",
              "        text-align: right;\n",
              "    }\n",
              "</style>\n",
              "<table border=\"1\" class=\"dataframe\">\n",
              "  <thead>\n",
              "    <tr style=\"text-align: right;\">\n",
              "      <th></th>\n",
              "      <th>url</th>\n",
              "      <th>label</th>\n",
              "      <th>domain</th>\n",
              "      <th>having_ip</th>\n",
              "    </tr>\n",
              "  </thead>\n",
              "  <tbody>\n",
              "    <tr>\n",
              "      <th>0</th>\n",
              "      <td>http://1337x.to/torrent/1110018/Blackhat-2015-...</td>\n",
              "      <td>0</td>\n",
              "      <td>1337x.to</td>\n",
              "      <td>0</td>\n",
              "    </tr>\n",
              "    <tr>\n",
              "      <th>1</th>\n",
              "      <td>http://1337x.to/torrent/1122940/Blackhat-2015-...</td>\n",
              "      <td>0</td>\n",
              "      <td>1337x.to</td>\n",
              "      <td>0</td>\n",
              "    </tr>\n",
              "    <tr>\n",
              "      <th>2</th>\n",
              "      <td>http://1337x.to/torrent/1124395/Fast-and-Furio...</td>\n",
              "      <td>0</td>\n",
              "      <td>1337x.to</td>\n",
              "      <td>0</td>\n",
              "    </tr>\n",
              "    <tr>\n",
              "      <th>3</th>\n",
              "      <td>http://1337x.to/torrent/1145504/Avengers-Age-o...</td>\n",
              "      <td>0</td>\n",
              "      <td>1337x.to</td>\n",
              "      <td>0</td>\n",
              "    </tr>\n",
              "    <tr>\n",
              "      <th>4</th>\n",
              "      <td>http://1337x.to/torrent/1160078/Avengers-age-o...</td>\n",
              "      <td>0</td>\n",
              "      <td>1337x.to</td>\n",
              "      <td>0</td>\n",
              "    </tr>\n",
              "  </tbody>\n",
              "</table>\n",
              "</div>"
            ],
            "text/plain": [
              "                                                 url  ...  having_ip\n",
              "0  http://1337x.to/torrent/1110018/Blackhat-2015-...  ...          0\n",
              "1  http://1337x.to/torrent/1122940/Blackhat-2015-...  ...          0\n",
              "2  http://1337x.to/torrent/1124395/Fast-and-Furio...  ...          0\n",
              "3  http://1337x.to/torrent/1145504/Avengers-Age-o...  ...          0\n",
              "4  http://1337x.to/torrent/1160078/Avengers-age-o...  ...          0\n",
              "\n",
              "[5 rows x 4 columns]"
            ]
          },
          "metadata": {},
          "execution_count": 198
        }
      ]
    },
    {
      "cell_type": "code",
      "metadata": {
        "id": "j9fDGD1oNOIi"
      },
      "source": [
        "def getLength(url):\n",
        "  if len(url) < 54:\n",
        "    length = 0            \n",
        "  else:\n",
        "    length = 1            \n",
        "  return length"
      ],
      "execution_count": null,
      "outputs": []
    },
    {
      "cell_type": "code",
      "metadata": {
        "id": "V7i_MtejNlRt",
        "colab": {
          "base_uri": "https://localhost:8080/",
          "height": 203
        },
        "outputId": "bc4fdd86-0148-4575-9772-b2f7f5df7816"
      },
      "source": [
        "df['lenUrl']=df['url'].apply(getLength)\n",
        "df.head()"
      ],
      "execution_count": null,
      "outputs": [
        {
          "output_type": "execute_result",
          "data": {
            "text/html": [
              "<div>\n",
              "<style scoped>\n",
              "    .dataframe tbody tr th:only-of-type {\n",
              "        vertical-align: middle;\n",
              "    }\n",
              "\n",
              "    .dataframe tbody tr th {\n",
              "        vertical-align: top;\n",
              "    }\n",
              "\n",
              "    .dataframe thead th {\n",
              "        text-align: right;\n",
              "    }\n",
              "</style>\n",
              "<table border=\"1\" class=\"dataframe\">\n",
              "  <thead>\n",
              "    <tr style=\"text-align: right;\">\n",
              "      <th></th>\n",
              "      <th>url</th>\n",
              "      <th>label</th>\n",
              "      <th>domain</th>\n",
              "      <th>having_ip</th>\n",
              "      <th>lenUrl</th>\n",
              "    </tr>\n",
              "  </thead>\n",
              "  <tbody>\n",
              "    <tr>\n",
              "      <th>0</th>\n",
              "      <td>http://1337x.to/torrent/1110018/Blackhat-2015-...</td>\n",
              "      <td>0</td>\n",
              "      <td>1337x.to</td>\n",
              "      <td>0</td>\n",
              "      <td>1</td>\n",
              "    </tr>\n",
              "    <tr>\n",
              "      <th>1</th>\n",
              "      <td>http://1337x.to/torrent/1122940/Blackhat-2015-...</td>\n",
              "      <td>0</td>\n",
              "      <td>1337x.to</td>\n",
              "      <td>0</td>\n",
              "      <td>1</td>\n",
              "    </tr>\n",
              "    <tr>\n",
              "      <th>2</th>\n",
              "      <td>http://1337x.to/torrent/1124395/Fast-and-Furio...</td>\n",
              "      <td>0</td>\n",
              "      <td>1337x.to</td>\n",
              "      <td>0</td>\n",
              "      <td>1</td>\n",
              "    </tr>\n",
              "    <tr>\n",
              "      <th>3</th>\n",
              "      <td>http://1337x.to/torrent/1145504/Avengers-Age-o...</td>\n",
              "      <td>0</td>\n",
              "      <td>1337x.to</td>\n",
              "      <td>0</td>\n",
              "      <td>1</td>\n",
              "    </tr>\n",
              "    <tr>\n",
              "      <th>4</th>\n",
              "      <td>http://1337x.to/torrent/1160078/Avengers-age-o...</td>\n",
              "      <td>0</td>\n",
              "      <td>1337x.to</td>\n",
              "      <td>0</td>\n",
              "      <td>1</td>\n",
              "    </tr>\n",
              "  </tbody>\n",
              "</table>\n",
              "</div>"
            ],
            "text/plain": [
              "                                                 url  label  ... having_ip  lenUrl\n",
              "0  http://1337x.to/torrent/1110018/Blackhat-2015-...      0  ...         0       1\n",
              "1  http://1337x.to/torrent/1122940/Blackhat-2015-...      0  ...         0       1\n",
              "2  http://1337x.to/torrent/1124395/Fast-and-Furio...      0  ...         0       1\n",
              "3  http://1337x.to/torrent/1145504/Avengers-Age-o...      0  ...         0       1\n",
              "4  http://1337x.to/torrent/1160078/Avengers-age-o...      0  ...         0       1\n",
              "\n",
              "[5 rows x 5 columns]"
            ]
          },
          "metadata": {},
          "execution_count": 200
        }
      ]
    },
    {
      "cell_type": "code",
      "metadata": {
        "id": "s8U7z4i8N1VW"
      },
      "source": [
        "def have_char(url):\n",
        "  list=[ \"/\", \"%\",\"#\",\"&\",\".\",\"=\",\"@\"]\n",
        "  n=0\n",
        "  for i in range(6):\n",
        "    n=n+url.count(list[i])\n",
        "  return n  "
      ],
      "execution_count": null,
      "outputs": []
    },
    {
      "cell_type": "code",
      "metadata": {
        "id": "fcu9TM2EO55h",
        "colab": {
          "base_uri": "https://localhost:8080/",
          "height": 203
        },
        "outputId": "b4153042-ab32-4b1e-aa2b-8412a3450d2c"
      },
      "source": [
        "df['chars']=df['url'].apply(have_char)\n",
        "df.head()"
      ],
      "execution_count": null,
      "outputs": [
        {
          "output_type": "execute_result",
          "data": {
            "text/html": [
              "<div>\n",
              "<style scoped>\n",
              "    .dataframe tbody tr th:only-of-type {\n",
              "        vertical-align: middle;\n",
              "    }\n",
              "\n",
              "    .dataframe tbody tr th {\n",
              "        vertical-align: top;\n",
              "    }\n",
              "\n",
              "    .dataframe thead th {\n",
              "        text-align: right;\n",
              "    }\n",
              "</style>\n",
              "<table border=\"1\" class=\"dataframe\">\n",
              "  <thead>\n",
              "    <tr style=\"text-align: right;\">\n",
              "      <th></th>\n",
              "      <th>url</th>\n",
              "      <th>label</th>\n",
              "      <th>domain</th>\n",
              "      <th>having_ip</th>\n",
              "      <th>lenUrl</th>\n",
              "      <th>chars</th>\n",
              "    </tr>\n",
              "  </thead>\n",
              "  <tbody>\n",
              "    <tr>\n",
              "      <th>0</th>\n",
              "      <td>http://1337x.to/torrent/1110018/Blackhat-2015-...</td>\n",
              "      <td>0</td>\n",
              "      <td>1337x.to</td>\n",
              "      <td>0</td>\n",
              "      <td>1</td>\n",
              "      <td>7</td>\n",
              "    </tr>\n",
              "    <tr>\n",
              "      <th>1</th>\n",
              "      <td>http://1337x.to/torrent/1122940/Blackhat-2015-...</td>\n",
              "      <td>0</td>\n",
              "      <td>1337x.to</td>\n",
              "      <td>0</td>\n",
              "      <td>1</td>\n",
              "      <td>7</td>\n",
              "    </tr>\n",
              "    <tr>\n",
              "      <th>2</th>\n",
              "      <td>http://1337x.to/torrent/1124395/Fast-and-Furio...</td>\n",
              "      <td>0</td>\n",
              "      <td>1337x.to</td>\n",
              "      <td>0</td>\n",
              "      <td>1</td>\n",
              "      <td>7</td>\n",
              "    </tr>\n",
              "    <tr>\n",
              "      <th>3</th>\n",
              "      <td>http://1337x.to/torrent/1145504/Avengers-Age-o...</td>\n",
              "      <td>0</td>\n",
              "      <td>1337x.to</td>\n",
              "      <td>0</td>\n",
              "      <td>1</td>\n",
              "      <td>7</td>\n",
              "    </tr>\n",
              "    <tr>\n",
              "      <th>4</th>\n",
              "      <td>http://1337x.to/torrent/1160078/Avengers-age-o...</td>\n",
              "      <td>0</td>\n",
              "      <td>1337x.to</td>\n",
              "      <td>0</td>\n",
              "      <td>1</td>\n",
              "      <td>7</td>\n",
              "    </tr>\n",
              "  </tbody>\n",
              "</table>\n",
              "</div>"
            ],
            "text/plain": [
              "                                                 url  label  ... lenUrl  chars\n",
              "0  http://1337x.to/torrent/1110018/Blackhat-2015-...      0  ...      1      7\n",
              "1  http://1337x.to/torrent/1122940/Blackhat-2015-...      0  ...      1      7\n",
              "2  http://1337x.to/torrent/1124395/Fast-and-Furio...      0  ...      1      7\n",
              "3  http://1337x.to/torrent/1145504/Avengers-Age-o...      0  ...      1      7\n",
              "4  http://1337x.to/torrent/1160078/Avengers-age-o...      0  ...      1      7\n",
              "\n",
              "[5 rows x 6 columns]"
            ]
          },
          "metadata": {},
          "execution_count": 202
        }
      ]
    },
    {
      "cell_type": "code",
      "metadata": {
        "id": "SUSsnd2DRhUC"
      },
      "source": [
        "def getDepth(url):\n",
        "  s = urlparse(url).path.split('/')\n",
        "  depth = 0\n",
        "  for j in range(len(s)):\n",
        "    if len(s[j]) != 0:\n",
        "      depth = depth+1\n",
        "  return depth"
      ],
      "execution_count": null,
      "outputs": []
    },
    {
      "cell_type": "code",
      "metadata": {
        "id": "w99ddyU2R_IP",
        "colab": {
          "base_uri": "https://localhost:8080/",
          "height": 203
        },
        "outputId": "40968c2a-cc2d-477c-c90c-b31d4711b408"
      },
      "source": [
        "df['depth']=df['url'].apply(getDepth)\n",
        "df.head()"
      ],
      "execution_count": null,
      "outputs": [
        {
          "output_type": "execute_result",
          "data": {
            "text/html": [
              "<div>\n",
              "<style scoped>\n",
              "    .dataframe tbody tr th:only-of-type {\n",
              "        vertical-align: middle;\n",
              "    }\n",
              "\n",
              "    .dataframe tbody tr th {\n",
              "        vertical-align: top;\n",
              "    }\n",
              "\n",
              "    .dataframe thead th {\n",
              "        text-align: right;\n",
              "    }\n",
              "</style>\n",
              "<table border=\"1\" class=\"dataframe\">\n",
              "  <thead>\n",
              "    <tr style=\"text-align: right;\">\n",
              "      <th></th>\n",
              "      <th>url</th>\n",
              "      <th>label</th>\n",
              "      <th>domain</th>\n",
              "      <th>having_ip</th>\n",
              "      <th>lenUrl</th>\n",
              "      <th>chars</th>\n",
              "      <th>depth</th>\n",
              "    </tr>\n",
              "  </thead>\n",
              "  <tbody>\n",
              "    <tr>\n",
              "      <th>0</th>\n",
              "      <td>http://1337x.to/torrent/1110018/Blackhat-2015-...</td>\n",
              "      <td>0</td>\n",
              "      <td>1337x.to</td>\n",
              "      <td>0</td>\n",
              "      <td>1</td>\n",
              "      <td>7</td>\n",
              "      <td>3</td>\n",
              "    </tr>\n",
              "    <tr>\n",
              "      <th>1</th>\n",
              "      <td>http://1337x.to/torrent/1122940/Blackhat-2015-...</td>\n",
              "      <td>0</td>\n",
              "      <td>1337x.to</td>\n",
              "      <td>0</td>\n",
              "      <td>1</td>\n",
              "      <td>7</td>\n",
              "      <td>3</td>\n",
              "    </tr>\n",
              "    <tr>\n",
              "      <th>2</th>\n",
              "      <td>http://1337x.to/torrent/1124395/Fast-and-Furio...</td>\n",
              "      <td>0</td>\n",
              "      <td>1337x.to</td>\n",
              "      <td>0</td>\n",
              "      <td>1</td>\n",
              "      <td>7</td>\n",
              "      <td>3</td>\n",
              "    </tr>\n",
              "    <tr>\n",
              "      <th>3</th>\n",
              "      <td>http://1337x.to/torrent/1145504/Avengers-Age-o...</td>\n",
              "      <td>0</td>\n",
              "      <td>1337x.to</td>\n",
              "      <td>0</td>\n",
              "      <td>1</td>\n",
              "      <td>7</td>\n",
              "      <td>3</td>\n",
              "    </tr>\n",
              "    <tr>\n",
              "      <th>4</th>\n",
              "      <td>http://1337x.to/torrent/1160078/Avengers-age-o...</td>\n",
              "      <td>0</td>\n",
              "      <td>1337x.to</td>\n",
              "      <td>0</td>\n",
              "      <td>1</td>\n",
              "      <td>7</td>\n",
              "      <td>3</td>\n",
              "    </tr>\n",
              "  </tbody>\n",
              "</table>\n",
              "</div>"
            ],
            "text/plain": [
              "                                                 url  label  ... chars  depth\n",
              "0  http://1337x.to/torrent/1110018/Blackhat-2015-...      0  ...     7      3\n",
              "1  http://1337x.to/torrent/1122940/Blackhat-2015-...      0  ...     7      3\n",
              "2  http://1337x.to/torrent/1124395/Fast-and-Furio...      0  ...     7      3\n",
              "3  http://1337x.to/torrent/1145504/Avengers-Age-o...      0  ...     7      3\n",
              "4  http://1337x.to/torrent/1160078/Avengers-age-o...      0  ...     7      3\n",
              "\n",
              "[5 rows x 7 columns]"
            ]
          },
          "metadata": {},
          "execution_count": 204
        }
      ]
    },
    {
      "cell_type": "code",
      "metadata": {
        "id": "A3z2aY8OSqai"
      },
      "source": [
        "def redirection(url):\n",
        "  pos = url.rfind('//')\n",
        "  return pos"
      ],
      "execution_count": null,
      "outputs": []
    },
    {
      "cell_type": "code",
      "metadata": {
        "id": "KRiw5ffMS00A",
        "colab": {
          "base_uri": "https://localhost:8080/",
          "height": 203
        },
        "outputId": "cd35c7cd-30ee-4303-df3c-b437b704b75f"
      },
      "source": [
        "df['redirection']=df['url'].apply(redirection)\n",
        "df.head()"
      ],
      "execution_count": null,
      "outputs": [
        {
          "output_type": "execute_result",
          "data": {
            "text/html": [
              "<div>\n",
              "<style scoped>\n",
              "    .dataframe tbody tr th:only-of-type {\n",
              "        vertical-align: middle;\n",
              "    }\n",
              "\n",
              "    .dataframe tbody tr th {\n",
              "        vertical-align: top;\n",
              "    }\n",
              "\n",
              "    .dataframe thead th {\n",
              "        text-align: right;\n",
              "    }\n",
              "</style>\n",
              "<table border=\"1\" class=\"dataframe\">\n",
              "  <thead>\n",
              "    <tr style=\"text-align: right;\">\n",
              "      <th></th>\n",
              "      <th>url</th>\n",
              "      <th>label</th>\n",
              "      <th>domain</th>\n",
              "      <th>having_ip</th>\n",
              "      <th>lenUrl</th>\n",
              "      <th>chars</th>\n",
              "      <th>depth</th>\n",
              "      <th>redirection</th>\n",
              "    </tr>\n",
              "  </thead>\n",
              "  <tbody>\n",
              "    <tr>\n",
              "      <th>0</th>\n",
              "      <td>http://1337x.to/torrent/1110018/Blackhat-2015-...</td>\n",
              "      <td>0</td>\n",
              "      <td>1337x.to</td>\n",
              "      <td>0</td>\n",
              "      <td>1</td>\n",
              "      <td>7</td>\n",
              "      <td>3</td>\n",
              "      <td>5</td>\n",
              "    </tr>\n",
              "    <tr>\n",
              "      <th>1</th>\n",
              "      <td>http://1337x.to/torrent/1122940/Blackhat-2015-...</td>\n",
              "      <td>0</td>\n",
              "      <td>1337x.to</td>\n",
              "      <td>0</td>\n",
              "      <td>1</td>\n",
              "      <td>7</td>\n",
              "      <td>3</td>\n",
              "      <td>5</td>\n",
              "    </tr>\n",
              "    <tr>\n",
              "      <th>2</th>\n",
              "      <td>http://1337x.to/torrent/1124395/Fast-and-Furio...</td>\n",
              "      <td>0</td>\n",
              "      <td>1337x.to</td>\n",
              "      <td>0</td>\n",
              "      <td>1</td>\n",
              "      <td>7</td>\n",
              "      <td>3</td>\n",
              "      <td>5</td>\n",
              "    </tr>\n",
              "    <tr>\n",
              "      <th>3</th>\n",
              "      <td>http://1337x.to/torrent/1145504/Avengers-Age-o...</td>\n",
              "      <td>0</td>\n",
              "      <td>1337x.to</td>\n",
              "      <td>0</td>\n",
              "      <td>1</td>\n",
              "      <td>7</td>\n",
              "      <td>3</td>\n",
              "      <td>5</td>\n",
              "    </tr>\n",
              "    <tr>\n",
              "      <th>4</th>\n",
              "      <td>http://1337x.to/torrent/1160078/Avengers-age-o...</td>\n",
              "      <td>0</td>\n",
              "      <td>1337x.to</td>\n",
              "      <td>0</td>\n",
              "      <td>1</td>\n",
              "      <td>7</td>\n",
              "      <td>3</td>\n",
              "      <td>5</td>\n",
              "    </tr>\n",
              "  </tbody>\n",
              "</table>\n",
              "</div>"
            ],
            "text/plain": [
              "                                                 url  label  ... depth  redirection\n",
              "0  http://1337x.to/torrent/1110018/Blackhat-2015-...      0  ...     3            5\n",
              "1  http://1337x.to/torrent/1122940/Blackhat-2015-...      0  ...     3            5\n",
              "2  http://1337x.to/torrent/1124395/Fast-and-Furio...      0  ...     3            5\n",
              "3  http://1337x.to/torrent/1145504/Avengers-Age-o...      0  ...     3            5\n",
              "4  http://1337x.to/torrent/1160078/Avengers-age-o...      0  ...     3            5\n",
              "\n",
              "[5 rows x 8 columns]"
            ]
          },
          "metadata": {},
          "execution_count": 206
        }
      ]
    },
    {
      "cell_type": "code",
      "metadata": {
        "id": "RFKiNvoQTtpU"
      },
      "source": [
        "def getProtocol(url):\n",
        "  domain = urlparse(url).netloc\n",
        "  if 'https' in domain:\n",
        "    return 1\n",
        "  else:\n",
        "    return 0"
      ],
      "execution_count": null,
      "outputs": []
    },
    {
      "cell_type": "code",
      "metadata": {
        "id": "Kga-CY8DT2O1",
        "colab": {
          "base_uri": "https://localhost:8080/",
          "height": 203
        },
        "outputId": "ad85c57a-78fd-4555-d68d-f5002498a8f6"
      },
      "source": [
        "df['protocol']=df['url'].apply(getProtocol)\n",
        "df.head()"
      ],
      "execution_count": null,
      "outputs": [
        {
          "output_type": "execute_result",
          "data": {
            "text/html": [
              "<div>\n",
              "<style scoped>\n",
              "    .dataframe tbody tr th:only-of-type {\n",
              "        vertical-align: middle;\n",
              "    }\n",
              "\n",
              "    .dataframe tbody tr th {\n",
              "        vertical-align: top;\n",
              "    }\n",
              "\n",
              "    .dataframe thead th {\n",
              "        text-align: right;\n",
              "    }\n",
              "</style>\n",
              "<table border=\"1\" class=\"dataframe\">\n",
              "  <thead>\n",
              "    <tr style=\"text-align: right;\">\n",
              "      <th></th>\n",
              "      <th>url</th>\n",
              "      <th>label</th>\n",
              "      <th>domain</th>\n",
              "      <th>having_ip</th>\n",
              "      <th>lenUrl</th>\n",
              "      <th>chars</th>\n",
              "      <th>depth</th>\n",
              "      <th>redirection</th>\n",
              "      <th>protocol</th>\n",
              "    </tr>\n",
              "  </thead>\n",
              "  <tbody>\n",
              "    <tr>\n",
              "      <th>0</th>\n",
              "      <td>http://1337x.to/torrent/1110018/Blackhat-2015-...</td>\n",
              "      <td>0</td>\n",
              "      <td>1337x.to</td>\n",
              "      <td>0</td>\n",
              "      <td>1</td>\n",
              "      <td>7</td>\n",
              "      <td>3</td>\n",
              "      <td>5</td>\n",
              "      <td>0</td>\n",
              "    </tr>\n",
              "    <tr>\n",
              "      <th>1</th>\n",
              "      <td>http://1337x.to/torrent/1122940/Blackhat-2015-...</td>\n",
              "      <td>0</td>\n",
              "      <td>1337x.to</td>\n",
              "      <td>0</td>\n",
              "      <td>1</td>\n",
              "      <td>7</td>\n",
              "      <td>3</td>\n",
              "      <td>5</td>\n",
              "      <td>0</td>\n",
              "    </tr>\n",
              "    <tr>\n",
              "      <th>2</th>\n",
              "      <td>http://1337x.to/torrent/1124395/Fast-and-Furio...</td>\n",
              "      <td>0</td>\n",
              "      <td>1337x.to</td>\n",
              "      <td>0</td>\n",
              "      <td>1</td>\n",
              "      <td>7</td>\n",
              "      <td>3</td>\n",
              "      <td>5</td>\n",
              "      <td>0</td>\n",
              "    </tr>\n",
              "    <tr>\n",
              "      <th>3</th>\n",
              "      <td>http://1337x.to/torrent/1145504/Avengers-Age-o...</td>\n",
              "      <td>0</td>\n",
              "      <td>1337x.to</td>\n",
              "      <td>0</td>\n",
              "      <td>1</td>\n",
              "      <td>7</td>\n",
              "      <td>3</td>\n",
              "      <td>5</td>\n",
              "      <td>0</td>\n",
              "    </tr>\n",
              "    <tr>\n",
              "      <th>4</th>\n",
              "      <td>http://1337x.to/torrent/1160078/Avengers-age-o...</td>\n",
              "      <td>0</td>\n",
              "      <td>1337x.to</td>\n",
              "      <td>0</td>\n",
              "      <td>1</td>\n",
              "      <td>7</td>\n",
              "      <td>3</td>\n",
              "      <td>5</td>\n",
              "      <td>0</td>\n",
              "    </tr>\n",
              "  </tbody>\n",
              "</table>\n",
              "</div>"
            ],
            "text/plain": [
              "                                                 url  ...  protocol\n",
              "0  http://1337x.to/torrent/1110018/Blackhat-2015-...  ...         0\n",
              "1  http://1337x.to/torrent/1122940/Blackhat-2015-...  ...         0\n",
              "2  http://1337x.to/torrent/1124395/Fast-and-Furio...  ...         0\n",
              "3  http://1337x.to/torrent/1145504/Avengers-Age-o...  ...         0\n",
              "4  http://1337x.to/torrent/1160078/Avengers-age-o...  ...         0\n",
              "\n",
              "[5 rows x 9 columns]"
            ]
          },
          "metadata": {},
          "execution_count": 208
        }
      ]
    },
    {
      "cell_type": "code",
      "metadata": {
        "id": "lFVzRBBdT-qq",
        "colab": {
          "base_uri": "https://localhost:8080/"
        },
        "outputId": "4fcdba97-6724-4094-df9b-1d88c2f91e80"
      },
      "source": [
        "df.isnull().sum()"
      ],
      "execution_count": null,
      "outputs": [
        {
          "output_type": "execute_result",
          "data": {
            "text/plain": [
              "url            0\n",
              "label          0\n",
              "domain         0\n",
              "having_ip      0\n",
              "lenUrl         0\n",
              "chars          0\n",
              "depth          0\n",
              "redirection    0\n",
              "protocol       0\n",
              "dtype: int64"
            ]
          },
          "metadata": {},
          "execution_count": 209
        }
      ]
    },
    {
      "cell_type": "code",
      "metadata": {
        "id": "mUX2q3-cUeSr"
      },
      "source": [
        "def shortUrl(url):\n",
        "  o=1\n",
        "  try:\n",
        "    if urllib.request.urlopen(url) == url:\n",
        "      o=0\n",
        "  except:\n",
        "    o=1   \n",
        "  return o  "
      ],
      "execution_count": null,
      "outputs": []
    },
    {
      "cell_type": "markdown",
      "metadata": {
        "id": "RA24sG8KlkcO"
      },
      "source": [
        "### Takes more time"
      ]
    },
    {
      "cell_type": "code",
      "metadata": {
        "id": "ZHH_2ly5lHUL"
      },
      "source": [
        "#df['shorten']=df['url'].apply(shortUrl)\n",
        "#df"
      ],
      "execution_count": null,
      "outputs": []
    },
    {
      "cell_type": "code",
      "metadata": {
        "id": "TyFLdTUWl4zJ"
      },
      "source": [
        "def getprefixSuffix(url):\n",
        "    if '-' in urlparse(url).netloc:\n",
        "        return 1\n",
        "    else:\n",
        "        return 0 "
      ],
      "execution_count": null,
      "outputs": []
    },
    {
      "cell_type": "code",
      "metadata": {
        "colab": {
          "base_uri": "https://localhost:8080/",
          "height": 203
        },
        "id": "VQgfk06jmFSg",
        "outputId": "9ee108ff-fbbd-4e8f-9c24-567a070be816"
      },
      "source": [
        "df['prefix/suffix']=df['url'].apply(getprefixSuffix)\n",
        "df.head()"
      ],
      "execution_count": null,
      "outputs": [
        {
          "output_type": "execute_result",
          "data": {
            "text/html": [
              "<div>\n",
              "<style scoped>\n",
              "    .dataframe tbody tr th:only-of-type {\n",
              "        vertical-align: middle;\n",
              "    }\n",
              "\n",
              "    .dataframe tbody tr th {\n",
              "        vertical-align: top;\n",
              "    }\n",
              "\n",
              "    .dataframe thead th {\n",
              "        text-align: right;\n",
              "    }\n",
              "</style>\n",
              "<table border=\"1\" class=\"dataframe\">\n",
              "  <thead>\n",
              "    <tr style=\"text-align: right;\">\n",
              "      <th></th>\n",
              "      <th>url</th>\n",
              "      <th>label</th>\n",
              "      <th>domain</th>\n",
              "      <th>having_ip</th>\n",
              "      <th>lenUrl</th>\n",
              "      <th>chars</th>\n",
              "      <th>depth</th>\n",
              "      <th>redirection</th>\n",
              "      <th>protocol</th>\n",
              "      <th>prefix/suffix</th>\n",
              "    </tr>\n",
              "  </thead>\n",
              "  <tbody>\n",
              "    <tr>\n",
              "      <th>0</th>\n",
              "      <td>http://1337x.to/torrent/1110018/Blackhat-2015-...</td>\n",
              "      <td>0</td>\n",
              "      <td>1337x.to</td>\n",
              "      <td>0</td>\n",
              "      <td>1</td>\n",
              "      <td>7</td>\n",
              "      <td>3</td>\n",
              "      <td>5</td>\n",
              "      <td>0</td>\n",
              "      <td>0</td>\n",
              "    </tr>\n",
              "    <tr>\n",
              "      <th>1</th>\n",
              "      <td>http://1337x.to/torrent/1122940/Blackhat-2015-...</td>\n",
              "      <td>0</td>\n",
              "      <td>1337x.to</td>\n",
              "      <td>0</td>\n",
              "      <td>1</td>\n",
              "      <td>7</td>\n",
              "      <td>3</td>\n",
              "      <td>5</td>\n",
              "      <td>0</td>\n",
              "      <td>0</td>\n",
              "    </tr>\n",
              "    <tr>\n",
              "      <th>2</th>\n",
              "      <td>http://1337x.to/torrent/1124395/Fast-and-Furio...</td>\n",
              "      <td>0</td>\n",
              "      <td>1337x.to</td>\n",
              "      <td>0</td>\n",
              "      <td>1</td>\n",
              "      <td>7</td>\n",
              "      <td>3</td>\n",
              "      <td>5</td>\n",
              "      <td>0</td>\n",
              "      <td>0</td>\n",
              "    </tr>\n",
              "    <tr>\n",
              "      <th>3</th>\n",
              "      <td>http://1337x.to/torrent/1145504/Avengers-Age-o...</td>\n",
              "      <td>0</td>\n",
              "      <td>1337x.to</td>\n",
              "      <td>0</td>\n",
              "      <td>1</td>\n",
              "      <td>7</td>\n",
              "      <td>3</td>\n",
              "      <td>5</td>\n",
              "      <td>0</td>\n",
              "      <td>0</td>\n",
              "    </tr>\n",
              "    <tr>\n",
              "      <th>4</th>\n",
              "      <td>http://1337x.to/torrent/1160078/Avengers-age-o...</td>\n",
              "      <td>0</td>\n",
              "      <td>1337x.to</td>\n",
              "      <td>0</td>\n",
              "      <td>1</td>\n",
              "      <td>7</td>\n",
              "      <td>3</td>\n",
              "      <td>5</td>\n",
              "      <td>0</td>\n",
              "      <td>0</td>\n",
              "    </tr>\n",
              "  </tbody>\n",
              "</table>\n",
              "</div>"
            ],
            "text/plain": [
              "                                                 url  ...  prefix/suffix\n",
              "0  http://1337x.to/torrent/1110018/Blackhat-2015-...  ...              0\n",
              "1  http://1337x.to/torrent/1122940/Blackhat-2015-...  ...              0\n",
              "2  http://1337x.to/torrent/1124395/Fast-and-Furio...  ...              0\n",
              "3  http://1337x.to/torrent/1145504/Avengers-Age-o...  ...              0\n",
              "4  http://1337x.to/torrent/1160078/Avengers-age-o...  ...              0\n",
              "\n",
              "[5 rows x 10 columns]"
            ]
          },
          "metadata": {},
          "execution_count": 213
        }
      ]
    },
    {
      "cell_type": "code",
      "metadata": {
        "id": "Z-4pKOkNmkhB"
      },
      "source": [
        "def forwarding(url):\n",
        "  try:\n",
        "    response = requests.get(url)\n",
        "  except:\n",
        "    response = \"\"\n",
        "  if response == \"\":\n",
        "    return 1\n",
        "  else:\n",
        "    if len(response.history) <= 2:\n",
        "      return 0\n",
        "    else:\n",
        "      return 1"
      ],
      "execution_count": null,
      "outputs": []
    },
    {
      "cell_type": "code",
      "metadata": {
        "colab": {
          "base_uri": "https://localhost:8080/",
          "height": 203
        },
        "id": "57800gzApMlO",
        "outputId": "2023c46d-2c99-4c02-9bd1-8290c22e1c38"
      },
      "source": [
        "df['NoOfForwards']=df['url'].apply(forwarding)\n",
        "df.head()"
      ],
      "execution_count": null,
      "outputs": [
        {
          "output_type": "execute_result",
          "data": {
            "text/html": [
              "<div>\n",
              "<style scoped>\n",
              "    .dataframe tbody tr th:only-of-type {\n",
              "        vertical-align: middle;\n",
              "    }\n",
              "\n",
              "    .dataframe tbody tr th {\n",
              "        vertical-align: top;\n",
              "    }\n",
              "\n",
              "    .dataframe thead th {\n",
              "        text-align: right;\n",
              "    }\n",
              "</style>\n",
              "<table border=\"1\" class=\"dataframe\">\n",
              "  <thead>\n",
              "    <tr style=\"text-align: right;\">\n",
              "      <th></th>\n",
              "      <th>url</th>\n",
              "      <th>label</th>\n",
              "      <th>domain</th>\n",
              "      <th>having_ip</th>\n",
              "      <th>lenUrl</th>\n",
              "      <th>chars</th>\n",
              "      <th>depth</th>\n",
              "      <th>redirection</th>\n",
              "      <th>protocol</th>\n",
              "      <th>prefix/suffix</th>\n",
              "      <th>NoOfForwards</th>\n",
              "    </tr>\n",
              "  </thead>\n",
              "  <tbody>\n",
              "    <tr>\n",
              "      <th>0</th>\n",
              "      <td>http://1337x.to/torrent/1110018/Blackhat-2015-...</td>\n",
              "      <td>0</td>\n",
              "      <td>1337x.to</td>\n",
              "      <td>0</td>\n",
              "      <td>1</td>\n",
              "      <td>7</td>\n",
              "      <td>3</td>\n",
              "      <td>5</td>\n",
              "      <td>0</td>\n",
              "      <td>0</td>\n",
              "      <td>1</td>\n",
              "    </tr>\n",
              "    <tr>\n",
              "      <th>1</th>\n",
              "      <td>http://1337x.to/torrent/1122940/Blackhat-2015-...</td>\n",
              "      <td>0</td>\n",
              "      <td>1337x.to</td>\n",
              "      <td>0</td>\n",
              "      <td>1</td>\n",
              "      <td>7</td>\n",
              "      <td>3</td>\n",
              "      <td>5</td>\n",
              "      <td>0</td>\n",
              "      <td>0</td>\n",
              "      <td>1</td>\n",
              "    </tr>\n",
              "    <tr>\n",
              "      <th>2</th>\n",
              "      <td>http://1337x.to/torrent/1124395/Fast-and-Furio...</td>\n",
              "      <td>0</td>\n",
              "      <td>1337x.to</td>\n",
              "      <td>0</td>\n",
              "      <td>1</td>\n",
              "      <td>7</td>\n",
              "      <td>3</td>\n",
              "      <td>5</td>\n",
              "      <td>0</td>\n",
              "      <td>0</td>\n",
              "      <td>1</td>\n",
              "    </tr>\n",
              "    <tr>\n",
              "      <th>3</th>\n",
              "      <td>http://1337x.to/torrent/1145504/Avengers-Age-o...</td>\n",
              "      <td>0</td>\n",
              "      <td>1337x.to</td>\n",
              "      <td>0</td>\n",
              "      <td>1</td>\n",
              "      <td>7</td>\n",
              "      <td>3</td>\n",
              "      <td>5</td>\n",
              "      <td>0</td>\n",
              "      <td>0</td>\n",
              "      <td>1</td>\n",
              "    </tr>\n",
              "    <tr>\n",
              "      <th>4</th>\n",
              "      <td>http://1337x.to/torrent/1160078/Avengers-age-o...</td>\n",
              "      <td>0</td>\n",
              "      <td>1337x.to</td>\n",
              "      <td>0</td>\n",
              "      <td>1</td>\n",
              "      <td>7</td>\n",
              "      <td>3</td>\n",
              "      <td>5</td>\n",
              "      <td>0</td>\n",
              "      <td>0</td>\n",
              "      <td>1</td>\n",
              "    </tr>\n",
              "  </tbody>\n",
              "</table>\n",
              "</div>"
            ],
            "text/plain": [
              "                                                 url  ...  NoOfForwards\n",
              "0  http://1337x.to/torrent/1110018/Blackhat-2015-...  ...             1\n",
              "1  http://1337x.to/torrent/1122940/Blackhat-2015-...  ...             1\n",
              "2  http://1337x.to/torrent/1124395/Fast-and-Furio...  ...             1\n",
              "3  http://1337x.to/torrent/1145504/Avengers-Age-o...  ...             1\n",
              "4  http://1337x.to/torrent/1160078/Avengers-age-o...  ...             1\n",
              "\n",
              "[5 rows x 11 columns]"
            ]
          },
          "metadata": {},
          "execution_count": 215
        }
      ]
    },
    {
      "cell_type": "code",
      "metadata": {
        "id": "zAF6Vcxop4OW"
      },
      "source": [
        "df = df.sample(frac=1).reset_index(drop=True)"
      ],
      "execution_count": null,
      "outputs": []
    },
    {
      "cell_type": "code",
      "metadata": {
        "colab": {
          "base_uri": "https://localhost:8080/"
        },
        "id": "h5yEYWieqxfN",
        "outputId": "c742bbc4-1059-4db2-a0b5-e89ac7118469"
      },
      "source": [
        "df.shape"
      ],
      "execution_count": null,
      "outputs": [
        {
          "output_type": "execute_result",
          "data": {
            "text/plain": [
              "(50235, 11)"
            ]
          },
          "metadata": {},
          "execution_count": 217
        }
      ]
    },
    {
      "cell_type": "code",
      "metadata": {
        "id": "-z_RJerkrGxX"
      },
      "source": [
        "df=df.drop(['url','domain'], axis = 1)"
      ],
      "execution_count": null,
      "outputs": []
    },
    {
      "cell_type": "code",
      "metadata": {
        "colab": {
          "base_uri": "https://localhost:8080/"
        },
        "id": "iEiqr8bbrR4U",
        "outputId": "40ecb560-5dff-4245-eb4b-cb768484ac20"
      },
      "source": [
        "X =df.drop('label',axis=1)\n",
        "Y = df['label']\n",
        "print(X)\n",
        "print(Y)"
      ],
      "execution_count": null,
      "outputs": [
        {
          "output_type": "stream",
          "text": [
            "       having_ip  lenUrl  chars  ...  protocol  prefix/suffix  NoOfForwards\n",
            "0              0       1      5  ...         0              0             1\n",
            "1              0       1     11  ...         0              0             1\n",
            "2              0       1     18  ...         0              0             1\n",
            "3              0       1     15  ...         0              0             1\n",
            "4              0       1      5  ...         0              0             1\n",
            "...          ...     ...    ...  ...       ...            ...           ...\n",
            "50230          0       1      7  ...         0              0             1\n",
            "50231          0       0      4  ...         0              0             1\n",
            "50232          0       1      7  ...         0              0             1\n",
            "50233          0       1      6  ...         0              0             1\n",
            "50234          0       1     12  ...         0              0             1\n",
            "\n",
            "[50235 rows x 8 columns]\n",
            "0        0\n",
            "1        0\n",
            "2        1\n",
            "3        0\n",
            "4        0\n",
            "        ..\n",
            "50230    0\n",
            "50231    1\n",
            "50232    0\n",
            "50233    0\n",
            "50234    1\n",
            "Name: label, Length: 50235, dtype: int64\n"
          ],
          "name": "stdout"
        }
      ]
    },
    {
      "cell_type": "markdown",
      "metadata": {
        "id": "ZmQzDqhE-61p"
      },
      "source": [
        "## Splitting the data for train and test"
      ]
    },
    {
      "cell_type": "code",
      "metadata": {
        "id": "wxEgsTx6r1iZ"
      },
      "source": [
        "from sklearn.model_selection import train_test_split\n",
        "X_train, X_test, Y_train, Y_test = train_test_split(X, Y, test_size = 0.2, random_state = 60)"
      ],
      "execution_count": null,
      "outputs": []
    },
    {
      "cell_type": "markdown",
      "metadata": {
        "id": "m8HGXtos_BIr"
      },
      "source": [
        "## Predicting using random forest classifier\n"
      ]
    },
    {
      "cell_type": "code",
      "metadata": {
        "colab": {
          "base_uri": "https://localhost:8080/"
        },
        "id": "4rW4COW9sPVV",
        "outputId": "90e2e6cc-99dd-4bcf-cb32-c72d9e6336e5"
      },
      "source": [
        "from sklearn.ensemble import RandomForestClassifier\n",
        "rfc = RandomForestClassifier()\n",
        "rfc.fit(X_train, Y_train)\n",
        "rfc.score(X_test, Y_test)\n"
      ],
      "execution_count": null,
      "outputs": [
        {
          "output_type": "execute_result",
          "data": {
            "text/plain": [
              "0.926246640788295"
            ]
          },
          "metadata": {},
          "execution_count": 221
        }
      ]
    },
    {
      "cell_type": "code",
      "metadata": {
        "colab": {
          "base_uri": "https://localhost:8080/"
        },
        "id": "qkYlW6XT8V1X",
        "outputId": "9318738d-bb90-4be5-f94b-2dfb3864e689"
      },
      "source": [
        "rfc1 = RandomForestClassifier()\n",
        "rfc1.fit(X,Y)\n",
        "url1=\"https://ecyxzqepqgyhupxeadagdtyesyyngrjzteftptbp.ymxjv7.shop/wctx1D1DFxFDg.do.php\"\n",
        "X1=np.array([[havingIP(url1),getLength(url1),have_char(url1),getDepth(url1),redirection(url1),getProtocol(url1),getprefixSuffix(url1),forwarding(url1)]])\n",
        "rfc1.predict(X1)"
      ],
      "execution_count": null,
      "outputs": [
        {
          "output_type": "execute_result",
          "data": {
            "text/plain": [
              "array([1])"
            ]
          },
          "metadata": {},
          "execution_count": 222
        }
      ]
    }
  ]
}